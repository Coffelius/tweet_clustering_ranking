{
 "cells": [
  {
   "cell_type": "markdown",
   "metadata": {},
   "source": [
    "## Welcome to Starscream Notebooks\n",
    "\n",
    "Imported modules:\n",
    "\n",
    "- `from datetime import datetime`\n",
    "- `from shopify import suds`\n",
    "- `import pandas as pd`\n",
    "- `import numpy as np`\n",
    "- `import matplotlib`\n",
    "- `import matplotlib.pyplot as plt`\n",
    "- `from starscream.datasource import read`\n",
    "- `from starscream.datasource import RDD, DATAFRAME, CQUERY`\n",
    "\n",
    "If you want to read arbitrary data from hdfs use : `read(uri,...)` run `help(read)` for info."
   ]
  },
  {
   "cell_type": "code",
   "execution_count": 24,
   "metadata": {
    "collapsed": false
   },
   "outputs": [],
   "source": [
    "from sklearn.cluster import KMeans\n",
    "import sys\n",
    "import json\n",
    "import numpy as np\n",
    "from sklearn import decomposition\n",
    "import matplotlib.pyplot as plt\n",
    "import random\n",
    "from collections import defaultdict\n",
    "import seaborn as sns\n",
    "import matplotlib.pyplot as plt\n",
    "import math"
   ]
  },
  {
   "cell_type": "code",
   "execution_count": 2,
   "metadata": {
    "collapsed": true
   },
   "outputs": [],
   "source": [
    "TWEETER_FEEDS = [\n",
    "\t'nytimes', 'thesun', 'thetimes', 'ap', 'cnn']\n",
    "#\t'cnn', 'bbcnews', 'cnet', 'msnuk', 'telegraph']"
   ]
  },
  {
   "cell_type": "code",
   "execution_count": 25,
   "metadata": {
    "collapsed": false,
    "scrolled": false
   },
   "outputs": [],
   "source": [
    "extracting_fields = ['favorite_count', 'coordinates', 'favorited', 'possibly_sensitive', 'retweet_count',\n",
    "                    'retweeted', 'retweeted_status', 'entities']\n",
    "tweets = []\n",
    "feed_names = []\n",
    "fields_dict = defaultdict(list)\n",
    "for feed in TWEETER_FEEDS:\n",
    "    idx = 0\n",
    "    tweet_data = open('/Users/lukekumar/Documents/Twitter-App/downloaded_tweets/'+feed+'-tweet.json', 'r')\n",
    "    for line in tweet_data:\n",
    "        data_dict = json.loads(line)\n",
    "        # print '\\n'.join(np.unique(data_dict.keys()))\n",
    "        fields_dict['favorite_count'].append(int(data_dict['favorite_count']) if data_dict.get('favorite_count') is not None else 0) \n",
    "        fields_dict['favorited'].append(bool(data_dict['favorited']) if data_dict.get('favorited') is not None else False)\n",
    "        fields_dict['possibly_sensitive'].append(bool(data_dict['favorited']) if data_dict.get('possibly_sensitive') is not None else False)\n",
    "        fields_dict['retweet_count'].append(int(data_dict['retweet_count']))\n",
    "        fields_dict['retweet_count_ln'].append(math.log(int(data_dict['retweet_count'])+1))\n",
    "        fields_dict['retweeted'].append(bool(data_dict['retweeted']))\n",
    "        fields_dict['retweeted_status'].append(1 if data_dict.get('retweeted_status') is not None else 0)\n",
    "        entities_encode = [0, 0, 0]\n",
    "        if len(data_dict['entities']['hashtags']) > 0:\n",
    "            entities_encode[0] = 1\n",
    "        if len(data_dict['entities']['urls']) > 0:\n",
    "            entities_encode[1] = 1\n",
    "        if len(data_dict['entities']['user_mentions']) > 0:\n",
    "            entities_encode[2] = 1\n",
    "        fields_dict['entities'].append(entities_encode)\n",
    "        tweets.append(data_dict['text']) \n",
    "        feed_names.append(data_dict['user']['screen_name'])\n",
    "    tweet_data.close()"
   ]
  },
  {
   "cell_type": "code",
   "execution_count": 26,
   "metadata": {
    "collapsed": false
   },
   "outputs": [
    {
     "data": {
      "text/plain": [
       "['favorited',\n",
       " 'retweeted_status',\n",
       " 'retweeted',\n",
       " 'retweet_count_ln',\n",
       " 'entities',\n",
       " 'favorite_count',\n",
       " 'retweet_count',\n",
       " 'possibly_sensitive']"
      ]
     },
     "execution_count": 26,
     "metadata": {},
     "output_type": "execute_result"
    }
   ],
   "source": [
    "fields_dict.keys()"
   ]
  },
  {
   "cell_type": "code",
   "execution_count": null,
   "metadata": {
    "collapsed": false,
    "scrolled": true
   },
   "outputs": [],
   "source": [
    "hist, bins = np.histogram(fields_dict['retweet_count'], bins=25)\n",
    "width = 0.7 * (bins[1] - bins[0])\n",
    "center = (bins[:-1] + bins[1:]) / 2\n",
    "plt.bar(center, hist, align='center', width=width)\n",
    "plt.title(\"Feature: retweet_count\")\n",
    "plt.show()"
   ]
  },
  {
   "cell_type": "code",
   "execution_count": 27,
   "metadata": {
    "collapsed": false
   },
   "outputs": [
    {
     "data": {
      "image/png": "[encoded data removed]",
      "text/plain": [
       "<matplotlib.figure.Figure at 0x10da63e90>"
      ]
     },
     "metadata": {},
     "output_type": "display_data"
    }
   ],
   "source": [
    "hist, bins = np.histogram(fields_dict['retweet_count_ln'], bins=25)\n",
    "width = 0.7 * (bins[1] - bins[0])\n",
    "center = (bins[:-1] + bins[1:]) / 2\n",
    "plt.bar(center, hist, align='center', width=width)\n",
    "plt.title(\"Feature: retweet_count_ln\")\n",
    "plt.show()"
   ]
  },
  {
   "cell_type": "code",
   "execution_count": 28,
   "metadata": {
    "collapsed": false,
    "scrolled": false
   },
   "outputs": [
    {
     "data": {
      "text/plain": [
       "['favorited',\n",
       " 'retweeted_status',\n",
       " 'retweeted',\n",
       " 'retweet_count_ln',\n",
       " 'entities',\n",
       " 'favorite_count',\n",
       " 'retweet_count',\n",
       " 'possibly_sensitive']"
      ]
     },
     "execution_count": 28,
     "metadata": {},
     "output_type": "execute_result"
    }
   ],
   "source": [
    "fields_dict.keys()"
   ]
  },
  {
   "cell_type": "code",
   "execution_count": 49,
   "metadata": {
    "collapsed": false
   },
   "outputs": [],
   "source": [
    "X = pd.DataFrame()\n",
    "X['favorited'] = fields_dict['favorited']\n",
    "X['retweeted_status'] = fields_dict['retweeted_status']\n",
    "X['retweeted'] = fields_dict['retweeted']\n",
    "X['entities_h'] = map(lambda x:x[0], fields_dict['entities'])\n",
    "X['entities_u'] = map(lambda x:x[0], fields_dict['entities'])\n",
    "X['entities_m'] = map(lambda x:x[0], fields_dict['entities'])\n",
    "X['favorite_count'] = fields_dict['favorite_count']\n",
    "X['possibly_sensitive'] = fields_dict['possibly_sensitive']\n",
    "y = pd.DataFrame()\n",
    "y['target'] = fields_dict['retweet_count_ln']"
   ]
  },
  {
   "cell_type": "code",
   "execution_count": 50,
   "metadata": {
    "collapsed": false
   },
   "outputs": [
    {
     "data": {
      "text/plain": [
       "(16102, 8)"
      ]
     },
     "execution_count": 50,
     "metadata": {},
     "output_type": "execute_result"
    }
   ],
   "source": [
    "X.shape"
   ]
  },
  {
   "cell_type": "code",
   "execution_count": 51,
   "metadata": {
    "collapsed": false
   },
   "outputs": [
    {
     "data": {
      "text/plain": [
       "favorited              bool\n",
       "retweeted_status      int64\n",
       "retweeted              bool\n",
       "entities_h            int64\n",
       "entities_u            int64\n",
       "entities_m            int64\n",
       "favorite_count        int64\n",
       "possibly_sensitive     bool\n",
       "dtype: object"
      ]
     },
     "execution_count": 51,
     "metadata": {},
     "output_type": "execute_result"
    }
   ],
   "source": [
    "X.dtypes"
   ]
  },
  {
   "cell_type": "code",
   "execution_count": 52,
   "metadata": {
    "collapsed": false
   },
   "outputs": [
    {
     "data": {
      "text/plain": [
       "target    float64\n",
       "dtype: object"
      ]
     },
     "execution_count": 52,
     "metadata": {},
     "output_type": "execute_result"
    }
   ],
   "source": [
    "y.dtypes"
   ]
  },
  {
   "cell_type": "code",
   "execution_count": 110,
   "metadata": {
    "collapsed": false
   },
   "outputs": [
    {
     "name": "stdout",
     "output_type": "stream",
     "text": [
      "num features:  8\n",
      "avg Y:  target    3.793313\n",
      "dtype: float64\n",
      "max_feature range:  [6]\n",
      "num trees:  [100]\n",
      "depth:  [5]\n"
     ]
    }
   ],
   "source": [
    "from sklearn.ensemble import RandomForestRegressor\n",
    "#from sklearn.linear_model import LogisticRegression\n",
    "from sklearn.model_selection import KFold\n",
    "from sklearn.metrics import mean_squared_error\n",
    "from scipy import interp\n",
    "import matplotlib.pyplot as plt\n",
    "\n",
    "\n",
    "#Set Seed to avoid changes based on Randomness \n",
    "np.random.seed(123456)\n",
    "\n",
    "from time import time\n",
    "\n",
    "n_samples, n_features = X.shape\n",
    "print \"num features: \", n_features\n",
    "print \"avg Y: \", np.mean(y)\n",
    "\n",
    "RANDOM_STATE = None\n",
    "\n",
    "kf = KFold(n_splits = 5, random_state = RANDOM_STATE, shuffle = True)\n",
    "\n",
    "# Range of Features\n",
    "max_feature_range = range(1, int(np.floor(np.sqrt(n_features))), 2) + \\\n",
    "                    range(int(np.floor(np.sqrt(n_features))), n_features, 2)\n",
    "max_feature_range = [6] #['auto'] #[int(np.floor(np.sqrt(n_features)))]\n",
    "print \"max_feature range: \", max_feature_range\n",
    "\n",
    "# Range Trees \n",
    "min_tree = 100\n",
    "max_tree = 100\n",
    "delta    = 1\n",
    "\n",
    "print 'num trees: ', range(min_tree, max_tree+1, delta)\n",
    "\n",
    "depth_range = [5, 10, 15, 20, 25, 50, None]\n",
    "depth_range = [5]# [None]\n",
    "print \"depth: \", depth_range\n",
    "#Parrellel Job\n",
    "num_jobs = 100"
   ]
  },
  {
   "cell_type": "code",
   "execution_count": 101,
   "metadata": {
    "collapsed": true
   },
   "outputs": [],
   "source": [
    "def run_grid_search(X, y):\n",
    "    \n",
    "    results = pd.DataFrame(columns=['max_features', 'max_depth', 'n_estimators', 'time',\\\n",
    "                                    'mean-mse', 'std-mse', 'train_oob_error'])\n",
    "    index = 0\n",
    "    for max_features in max_feature_range:\n",
    "        \n",
    "        for max_depth in depth_range:\n",
    "\n",
    "            for num_trees in range(min_tree, max_tree+1, delta):\n",
    "\n",
    "                rf = RandomForestRegressor(criterion='mse', n_jobs = num_jobs, oob_score = True, \\\n",
    "                                            n_estimators = num_trees, max_features = max_features, \\\n",
    "                                            min_samples_split = 2, max_depth = max_depth) \n",
    "\n",
    "                #rf = LogisticRegression(class_weight='balanced', max_iter=1000)\n",
    "                #skf = StratifiedKFold(y, 5, shuffle=True)\n",
    "\n",
    "                lst_mse   = []\n",
    "                lst_oob_error  = []\n",
    "                lst_predictions = []\n",
    "                lst_labels = []\n",
    "\n",
    "                start = time()\n",
    "\n",
    "                for train_index, test_index in kf.split(X):\n",
    "                   \n",
    "                    X_train, X_test = X.loc[train_index], X.loc[test_index]\n",
    "                    y_train, y_test = y.loc[train_index], y.loc[test_index]\n",
    "\n",
    "                    # print \"train: \", X_train.shape, \"\\ttest: \", X_test.shape\n",
    "                    \n",
    "                    rf.fit(X_train, y_train)\n",
    "                    prediction = rf.predict(X_test)\n",
    "                    lst_predictions += prediction.tolist()\n",
    "                    lst_labels += y_test.values.tolist()\n",
    "                    lst_oob_error.append(1 - rf.oob_score_)\n",
    "                    lst_mse.append(mean_squared_error(y_test, prediction))\n",
    "\n",
    "                end = time()\n",
    "            \n",
    "                print 'max_features =', max_features, 'max_depth =', max_depth, 'n_estimators =', num_trees,\\\n",
    "                    'mean-mse: ',  np.mean(lst_mse)           \n",
    "            \n",
    "                results.loc[index] = [max_features, max_depth, num_trees, end-start, np.mean(lst_mse), \\\n",
    "                                      np.std(lst_mse), np.mean(lst_oob_error)]\n",
    "                index = index + 1\n",
    "        \n",
    "    return results, lst_predictions, lst_labels"
   ]
  },
  {
   "cell_type": "code",
   "execution_count": 102,
   "metadata": {
    "collapsed": false
   },
   "outputs": [
    {
     "name": "stdout",
     "output_type": "stream",
     "text": [
      "Index([u'favorited', u'retweeted_status', u'retweeted', u'entities_h',\n",
      "       u'entities_u', u'entities_m', u'favorite_count', u'possibly_sensitive'],\n",
      "      dtype='object')\n"
     ]
    },
    {
     "name": "stderr",
     "output_type": "stream",
     "text": [
      "/Users/lukekumar/.virtualenvs/starscream/lib/python2.7/site-packages/ipykernel/__main__.py:30: DataConversionWarning: A column-vector y was passed when a 1d array was expected. Please change the shape of y to (n_samples,), for example using ravel().\n"
     ]
    },
    {
     "name": "stdout",
     "output_type": "stream",
     "text": [
      "max_features = 6 max_depth = 5 n_estimators = 100 mean-mse:  0.662537397466\n"
     ]
    },
    {
     "data": {
      "text/html": [
       "<div>\n",
       "<table border=\"1\" class=\"dataframe\">\n",
       "  <thead>\n",
       "    <tr style=\"text-align: right;\">\n",
       "      <th></th>\n",
       "      <th>max_features</th>\n",
       "      <th>max_depth</th>\n",
       "      <th>n_estimators</th>\n",
       "      <th>time</th>\n",
       "      <th>mean-mse</th>\n",
       "      <th>std-mse</th>\n",
       "      <th>train_oob_error</th>\n",
       "    </tr>\n",
       "  </thead>\n",
       "  <tbody>\n",
       "    <tr>\n",
       "      <th>0</th>\n",
       "      <td>6.0</td>\n",
       "      <td>5.0</td>\n",
       "      <td>100.0</td>\n",
       "      <td>3.124662</td>\n",
       "      <td>0.662537</td>\n",
       "      <td>0.018267</td>\n",
       "      <td>0.196669</td>\n",
       "    </tr>\n",
       "  </tbody>\n",
       "</table>\n",
       "</div>"
      ],
      "text/plain": [
       "   max_features  max_depth  n_estimators      time  mean-mse   std-mse  \\\n",
       "0           6.0        5.0         100.0  3.124662  0.662537  0.018267   \n",
       "\n",
       "   train_oob_error  \n",
       "0         0.196669  "
      ]
     },
     "execution_count": 102,
     "metadata": {},
     "output_type": "execute_result"
    }
   ],
   "source": [
    "NewX = X.copy()\n",
    "print NewX.columns\n",
    "res, pred, label = run_grid_search(NewX.copy(), y.copy())\n",
    "res"
   ]
  },
  {
   "cell_type": "code",
   "execution_count": 115,
   "metadata": {
    "collapsed": false,
    "scrolled": false
   },
   "outputs": [
    {
     "data": {
      "image/png": "[encoded data removed]",
      "text/plain": [
       "<matplotlib.figure.Figure at 0x10e8c1810>"
      ]
     },
     "metadata": {},
     "output_type": "display_data"
    }
   ],
   "source": [
    "plt.plot(label[0:1000], color='b')\n",
    "plt.plot(pred[0:1000], color='g')\n",
    "plt.show()"
   ]
  },
  {
   "cell_type": "code",
   "execution_count": null,
   "metadata": {
    "collapsed": true
   },
   "outputs": [],
   "source": []
  },
  {
   "cell_type": "code",
   "execution_count": null,
   "metadata": {
    "collapsed": true
   },
   "outputs": [],
   "source": []
  },
  {
   "cell_type": "code",
   "execution_count": 83,
   "metadata": {
    "collapsed": false
   },
   "outputs": [
    {
     "name": "stdout",
     "output_type": "stream",
     "text": [
      "Index([u'favorited', u'retweeted_status', u'retweeted', u'entities_h',\n",
      "       u'entities_u', u'entities_m', u'favorite_count', u'possibly_sensitive'],\n",
      "      dtype='object')\n"
     ]
    },
    {
     "name": "stderr",
     "output_type": "stream",
     "text": [
      "/Users/lukekumar/.virtualenvs/starscream/lib/python2.7/site-packages/ipykernel/__main__.py:28: DataConversionWarning: A column-vector y was passed when a 1d array was expected. Please change the shape of y to (n_samples,), for example using ravel().\n"
     ]
    },
    {
     "name": "stdout",
     "output_type": "stream",
     "text": [
      "max_features = 1 max_depth = 5 n_estimators = 100 mean-mse:  0.669419106811\n",
      "max_features = 1 max_depth = 10 n_estimators = 100 mean-mse:  0.662440585865\n",
      "max_features = 1 max_depth = 15 n_estimators = 100 mean-mse:  0.67192451313\n",
      "max_features = 1 max_depth = 20 n_estimators = 100 mean-mse:  0.679171853986\n",
      "max_features = 1 max_depth = 25 n_estimators = 100 mean-mse:  0.679786649462\n",
      "max_features = 1 max_depth = 50 n_estimators = 100 mean-mse:  0.679756088494\n",
      "max_features = 1 max_depth = None n_estimators = 100 mean-mse:  0.680226669262\n",
      "max_features = 2 max_depth = 5 n_estimators = 100 mean-mse:  0.667052018755\n",
      "max_features = 2 max_depth = 10 n_estimators = 100 mean-mse:  0.663069424632\n",
      "max_features = 2 max_depth = 15 n_estimators = 100 mean-mse:  0.671283256335\n",
      "max_features = 2 max_depth = 20 n_estimators = 100 mean-mse:  0.678184727771\n",
      "max_features = 2 max_depth = 25 n_estimators = 100 mean-mse:  0.6792611001\n",
      "max_features = 2 max_depth = 50 n_estimators = 100 mean-mse:  0.681120612292\n",
      "max_features = 2 max_depth = None n_estimators = 100 mean-mse:  0.678749268964\n",
      "max_features = 4 max_depth = 5 n_estimators = 100 mean-mse:  0.665848580701\n",
      "max_features = 4 max_depth = 10 n_estimators = 100 mean-mse:  0.662656022462\n",
      "max_features = 4 max_depth = 15 n_estimators = 100 mean-mse:  0.673080139116\n",
      "max_features = 4 max_depth = 20 n_estimators = 100 mean-mse:  0.680838066688\n",
      "max_features = 4 max_depth = 25 n_estimators = 100 mean-mse:  0.679478000199\n",
      "max_features = 4 max_depth = 50 n_estimators = 100 mean-mse:  0.680781773413\n",
      "max_features = 4 max_depth = None n_estimators = 100 mean-mse:  0.680682784309\n",
      "max_features = 6 max_depth = 5 n_estimators = 100 mean-mse:  0.661745354204\n",
      "max_features = 6 max_depth = 10 n_estimators = 100 mean-mse:  0.663661725857\n",
      "max_features = 6 max_depth = 15 n_estimators = 100 mean-mse:  0.672450835485\n",
      "max_features = 6 max_depth = 20 n_estimators = 100 mean-mse:  0.678848311073\n",
      "max_features = 6 max_depth = 25 n_estimators = 100 mean-mse:  0.67861072023\n",
      "max_features = 6 max_depth = 50 n_estimators = 100 mean-mse:  0.681896849836\n",
      "max_features = 6 max_depth = None n_estimators = 100 mean-mse:  0.680925519458\n"
     ]
    },
    {
     "data": {
      "text/html": [
       "<div>\n",
       "<table border=\"1\" class=\"dataframe\">\n",
       "  <thead>\n",
       "    <tr style=\"text-align: right;\">\n",
       "      <th></th>\n",
       "      <th>max_features</th>\n",
       "      <th>max_depth</th>\n",
       "      <th>n_estimators</th>\n",
       "      <th>time</th>\n",
       "      <th>mean-mse</th>\n",
       "      <th>std-mse</th>\n",
       "      <th>train_oob_error</th>\n",
       "    </tr>\n",
       "  </thead>\n",
       "  <tbody>\n",
       "    <tr>\n",
       "      <th>0</th>\n",
       "      <td>1.0</td>\n",
       "      <td>5.0</td>\n",
       "      <td>100.0</td>\n",
       "      <td>3.108675</td>\n",
       "      <td>0.669419</td>\n",
       "      <td>0.025367</td>\n",
       "      <td>0.198816</td>\n",
       "    </tr>\n",
       "    <tr>\n",
       "      <th>1</th>\n",
       "      <td>1.0</td>\n",
       "      <td>10.0</td>\n",
       "      <td>100.0</td>\n",
       "      <td>3.170891</td>\n",
       "      <td>0.662441</td>\n",
       "      <td>0.021650</td>\n",
       "      <td>0.196550</td>\n",
       "    </tr>\n",
       "    <tr>\n",
       "      <th>2</th>\n",
       "      <td>1.0</td>\n",
       "      <td>15.0</td>\n",
       "      <td>100.0</td>\n",
       "      <td>3.265849</td>\n",
       "      <td>0.671925</td>\n",
       "      <td>0.020150</td>\n",
       "      <td>0.199501</td>\n",
       "    </tr>\n",
       "    <tr>\n",
       "      <th>3</th>\n",
       "      <td>1.0</td>\n",
       "      <td>20.0</td>\n",
       "      <td>100.0</td>\n",
       "      <td>2.934065</td>\n",
       "      <td>0.679172</td>\n",
       "      <td>0.018615</td>\n",
       "      <td>0.201328</td>\n",
       "    </tr>\n",
       "    <tr>\n",
       "      <th>4</th>\n",
       "      <td>1.0</td>\n",
       "      <td>25.0</td>\n",
       "      <td>100.0</td>\n",
       "      <td>3.058642</td>\n",
       "      <td>0.679787</td>\n",
       "      <td>0.021532</td>\n",
       "      <td>0.201844</td>\n",
       "    </tr>\n",
       "    <tr>\n",
       "      <th>5</th>\n",
       "      <td>1.0</td>\n",
       "      <td>50.0</td>\n",
       "      <td>100.0</td>\n",
       "      <td>3.158677</td>\n",
       "      <td>0.679756</td>\n",
       "      <td>0.026093</td>\n",
       "      <td>0.201947</td>\n",
       "    </tr>\n",
       "    <tr>\n",
       "      <th>6</th>\n",
       "      <td>1.0</td>\n",
       "      <td>NaN</td>\n",
       "      <td>100.0</td>\n",
       "      <td>3.027971</td>\n",
       "      <td>0.680227</td>\n",
       "      <td>0.014082</td>\n",
       "      <td>0.201953</td>\n",
       "    </tr>\n",
       "    <tr>\n",
       "      <th>7</th>\n",
       "      <td>2.0</td>\n",
       "      <td>5.0</td>\n",
       "      <td>100.0</td>\n",
       "      <td>3.030173</td>\n",
       "      <td>0.667052</td>\n",
       "      <td>0.014867</td>\n",
       "      <td>0.198224</td>\n",
       "    </tr>\n",
       "    <tr>\n",
       "      <th>8</th>\n",
       "      <td>2.0</td>\n",
       "      <td>10.0</td>\n",
       "      <td>100.0</td>\n",
       "      <td>3.168870</td>\n",
       "      <td>0.663069</td>\n",
       "      <td>0.024182</td>\n",
       "      <td>0.196579</td>\n",
       "    </tr>\n",
       "    <tr>\n",
       "      <th>9</th>\n",
       "      <td>2.0</td>\n",
       "      <td>15.0</td>\n",
       "      <td>100.0</td>\n",
       "      <td>3.212041</td>\n",
       "      <td>0.671283</td>\n",
       "      <td>0.036241</td>\n",
       "      <td>0.199500</td>\n",
       "    </tr>\n",
       "    <tr>\n",
       "      <th>10</th>\n",
       "      <td>2.0</td>\n",
       "      <td>20.0</td>\n",
       "      <td>100.0</td>\n",
       "      <td>3.092422</td>\n",
       "      <td>0.678185</td>\n",
       "      <td>0.026339</td>\n",
       "      <td>0.201471</td>\n",
       "    </tr>\n",
       "    <tr>\n",
       "      <th>11</th>\n",
       "      <td>2.0</td>\n",
       "      <td>25.0</td>\n",
       "      <td>100.0</td>\n",
       "      <td>3.043640</td>\n",
       "      <td>0.679261</td>\n",
       "      <td>0.034645</td>\n",
       "      <td>0.201925</td>\n",
       "    </tr>\n",
       "    <tr>\n",
       "      <th>12</th>\n",
       "      <td>2.0</td>\n",
       "      <td>50.0</td>\n",
       "      <td>100.0</td>\n",
       "      <td>3.028441</td>\n",
       "      <td>0.681121</td>\n",
       "      <td>0.012961</td>\n",
       "      <td>0.201882</td>\n",
       "    </tr>\n",
       "    <tr>\n",
       "      <th>13</th>\n",
       "      <td>2.0</td>\n",
       "      <td>NaN</td>\n",
       "      <td>100.0</td>\n",
       "      <td>3.066036</td>\n",
       "      <td>0.678749</td>\n",
       "      <td>0.021793</td>\n",
       "      <td>0.202183</td>\n",
       "    </tr>\n",
       "    <tr>\n",
       "      <th>14</th>\n",
       "      <td>4.0</td>\n",
       "      <td>5.0</td>\n",
       "      <td>100.0</td>\n",
       "      <td>2.983438</td>\n",
       "      <td>0.665849</td>\n",
       "      <td>0.017115</td>\n",
       "      <td>0.197399</td>\n",
       "    </tr>\n",
       "    <tr>\n",
       "      <th>15</th>\n",
       "      <td>4.0</td>\n",
       "      <td>10.0</td>\n",
       "      <td>100.0</td>\n",
       "      <td>3.196045</td>\n",
       "      <td>0.662656</td>\n",
       "      <td>0.024086</td>\n",
       "      <td>0.196735</td>\n",
       "    </tr>\n",
       "    <tr>\n",
       "      <th>16</th>\n",
       "      <td>4.0</td>\n",
       "      <td>15.0</td>\n",
       "      <td>100.0</td>\n",
       "      <td>3.158316</td>\n",
       "      <td>0.673080</td>\n",
       "      <td>0.010991</td>\n",
       "      <td>0.199659</td>\n",
       "    </tr>\n",
       "    <tr>\n",
       "      <th>17</th>\n",
       "      <td>4.0</td>\n",
       "      <td>20.0</td>\n",
       "      <td>100.0</td>\n",
       "      <td>2.993115</td>\n",
       "      <td>0.680838</td>\n",
       "      <td>0.024750</td>\n",
       "      <td>0.201372</td>\n",
       "    </tr>\n",
       "    <tr>\n",
       "      <th>18</th>\n",
       "      <td>4.0</td>\n",
       "      <td>25.0</td>\n",
       "      <td>100.0</td>\n",
       "      <td>3.106338</td>\n",
       "      <td>0.679478</td>\n",
       "      <td>0.010304</td>\n",
       "      <td>0.201968</td>\n",
       "    </tr>\n",
       "    <tr>\n",
       "      <th>19</th>\n",
       "      <td>4.0</td>\n",
       "      <td>50.0</td>\n",
       "      <td>100.0</td>\n",
       "      <td>3.044846</td>\n",
       "      <td>0.680782</td>\n",
       "      <td>0.017361</td>\n",
       "      <td>0.201925</td>\n",
       "    </tr>\n",
       "    <tr>\n",
       "      <th>20</th>\n",
       "      <td>4.0</td>\n",
       "      <td>NaN</td>\n",
       "      <td>100.0</td>\n",
       "      <td>3.063312</td>\n",
       "      <td>0.680683</td>\n",
       "      <td>0.024741</td>\n",
       "      <td>0.201977</td>\n",
       "    </tr>\n",
       "    <tr>\n",
       "      <th>21</th>\n",
       "      <td>6.0</td>\n",
       "      <td>5.0</td>\n",
       "      <td>100.0</td>\n",
       "      <td>3.100670</td>\n",
       "      <td>0.661745</td>\n",
       "      <td>0.034851</td>\n",
       "      <td>0.196700</td>\n",
       "    </tr>\n",
       "    <tr>\n",
       "      <th>22</th>\n",
       "      <td>6.0</td>\n",
       "      <td>10.0</td>\n",
       "      <td>100.0</td>\n",
       "      <td>3.155294</td>\n",
       "      <td>0.663662</td>\n",
       "      <td>0.018934</td>\n",
       "      <td>0.196775</td>\n",
       "    </tr>\n",
       "    <tr>\n",
       "      <th>23</th>\n",
       "      <td>6.0</td>\n",
       "      <td>15.0</td>\n",
       "      <td>100.0</td>\n",
       "      <td>3.240301</td>\n",
       "      <td>0.672451</td>\n",
       "      <td>0.026834</td>\n",
       "      <td>0.199701</td>\n",
       "    </tr>\n",
       "    <tr>\n",
       "      <th>24</th>\n",
       "      <td>6.0</td>\n",
       "      <td>20.0</td>\n",
       "      <td>100.0</td>\n",
       "      <td>3.086539</td>\n",
       "      <td>0.678848</td>\n",
       "      <td>0.031996</td>\n",
       "      <td>0.201542</td>\n",
       "    </tr>\n",
       "    <tr>\n",
       "      <th>25</th>\n",
       "      <td>6.0</td>\n",
       "      <td>25.0</td>\n",
       "      <td>100.0</td>\n",
       "      <td>3.116917</td>\n",
       "      <td>0.678611</td>\n",
       "      <td>0.020505</td>\n",
       "      <td>0.201938</td>\n",
       "    </tr>\n",
       "    <tr>\n",
       "      <th>26</th>\n",
       "      <td>6.0</td>\n",
       "      <td>50.0</td>\n",
       "      <td>100.0</td>\n",
       "      <td>3.094809</td>\n",
       "      <td>0.681897</td>\n",
       "      <td>0.031131</td>\n",
       "      <td>0.201796</td>\n",
       "    </tr>\n",
       "    <tr>\n",
       "      <th>27</th>\n",
       "      <td>6.0</td>\n",
       "      <td>NaN</td>\n",
       "      <td>100.0</td>\n",
       "      <td>3.041781</td>\n",
       "      <td>0.680926</td>\n",
       "      <td>0.031049</td>\n",
       "      <td>0.201959</td>\n",
       "    </tr>\n",
       "  </tbody>\n",
       "</table>\n",
       "</div>"
      ],
      "text/plain": [
       "    max_features  max_depth  n_estimators      time  mean-mse   std-mse  \\\n",
       "0            1.0        5.0         100.0  3.108675  0.669419  0.025367   \n",
       "1            1.0       10.0         100.0  3.170891  0.662441  0.021650   \n",
       "2            1.0       15.0         100.0  3.265849  0.671925  0.020150   \n",
       "3            1.0       20.0         100.0  2.934065  0.679172  0.018615   \n",
       "4            1.0       25.0         100.0  3.058642  0.679787  0.021532   \n",
       "5            1.0       50.0         100.0  3.158677  0.679756  0.026093   \n",
       "6            1.0        NaN         100.0  3.027971  0.680227  0.014082   \n",
       "7            2.0        5.0         100.0  3.030173  0.667052  0.014867   \n",
       "8            2.0       10.0         100.0  3.168870  0.663069  0.024182   \n",
       "9            2.0       15.0         100.0  3.212041  0.671283  0.036241   \n",
       "10           2.0       20.0         100.0  3.092422  0.678185  0.026339   \n",
       "11           2.0       25.0         100.0  3.043640  0.679261  0.034645   \n",
       "12           2.0       50.0         100.0  3.028441  0.681121  0.012961   \n",
       "13           2.0        NaN         100.0  3.066036  0.678749  0.021793   \n",
       "14           4.0        5.0         100.0  2.983438  0.665849  0.017115   \n",
       "15           4.0       10.0         100.0  3.196045  0.662656  0.024086   \n",
       "16           4.0       15.0         100.0  3.158316  0.673080  0.010991   \n",
       "17           4.0       20.0         100.0  2.993115  0.680838  0.024750   \n",
       "18           4.0       25.0         100.0  3.106338  0.679478  0.010304   \n",
       "19           4.0       50.0         100.0  3.044846  0.680782  0.017361   \n",
       "20           4.0        NaN         100.0  3.063312  0.680683  0.024741   \n",
       "21           6.0        5.0         100.0  3.100670  0.661745  0.034851   \n",
       "22           6.0       10.0         100.0  3.155294  0.663662  0.018934   \n",
       "23           6.0       15.0         100.0  3.240301  0.672451  0.026834   \n",
       "24           6.0       20.0         100.0  3.086539  0.678848  0.031996   \n",
       "25           6.0       25.0         100.0  3.116917  0.678611  0.020505   \n",
       "26           6.0       50.0         100.0  3.094809  0.681897  0.031131   \n",
       "27           6.0        NaN         100.0  3.041781  0.680926  0.031049   \n",
       "\n",
       "    train_oob_error  \n",
       "0          0.198816  \n",
       "1          0.196550  \n",
       "2          0.199501  \n",
       "3          0.201328  \n",
       "4          0.201844  \n",
       "5          0.201947  \n",
       "6          0.201953  \n",
       "7          0.198224  \n",
       "8          0.196579  \n",
       "9          0.199500  \n",
       "10         0.201471  \n",
       "11         0.201925  \n",
       "12         0.201882  \n",
       "13         0.202183  \n",
       "14         0.197399  \n",
       "15         0.196735  \n",
       "16         0.199659  \n",
       "17         0.201372  \n",
       "18         0.201968  \n",
       "19         0.201925  \n",
       "20         0.201977  \n",
       "21         0.196700  \n",
       "22         0.196775  \n",
       "23         0.199701  \n",
       "24         0.201542  \n",
       "25         0.201938  \n",
       "26         0.201796  \n",
       "27         0.201959  "
      ]
     },
     "execution_count": 83,
     "metadata": {},
     "output_type": "execute_result"
    }
   ],
   "source": [
    "NewX = X.copy()\n",
    "print NewX.columns\n",
    "#res = run_grid_search(NewX.copy(), y.copy())\n",
    "res"
   ]
  },
  {
   "cell_type": "code",
   "execution_count": null,
   "metadata": {
    "collapsed": true
   },
   "outputs": [],
   "source": []
  }
 ],
 "metadata": {
  "kernelspec": {
   "display_name": "Python 2",
   "language": "python",
   "name": "python2"
  },
  "language_info": {
   "codemirror_mode": {
    "name": "ipython",
    "version": 2
   },
   "file_extension": ".py",
   "mimetype": "text/x-python",
   "name": "python",
   "nbconvert_exporter": "python",
   "pygments_lexer": "ipython2",
   "version": "2.7.13"
  }
 },
 "nbformat": 4,
 "nbformat_minor": 2
}
